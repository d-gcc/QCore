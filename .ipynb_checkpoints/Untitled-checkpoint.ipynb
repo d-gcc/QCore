{
 "cells": [
  {
   "cell_type": "code",
   "execution_count": 6,
   "id": "504febfe",
   "metadata": {},
   "outputs": [],
   "source": [
    "from torchvision import datasets, transforms\n",
    "from torch import tensor, long\n",
    "import torch, pathlib, os, scipy.io\n",
    "import numpy as np, pandas as pd\n",
    "from sklearn.model_selection import train_test_split\n",
    "from torch.utils.data import Dataset, DataLoader, RandomSampler, TensorDataset, ConcatDataset\n",
    "from sklearn.cluster import KMeans"
   ]
  },
  {
   "cell_type": "code",
   "execution_count": 22,
   "id": "8733159b",
   "metadata": {},
   "outputs": [
    {
     "name": "stdout",
     "output_type": "stream",
     "text": [
      "(912, 45, 125)\n",
      "(912, 5625)\n"
     ]
    }
   ],
   "source": [
    "seriesList = []\n",
    "labelsList = []\n",
    "\n",
    "path = './data/DailyActivities/'\n",
    "for activity in os.listdir(path):\n",
    "    pathSubject = path + activity +'/p' + str(1)\n",
    "    for segment in os.listdir(pathSubject):\n",
    "        data = np.loadtxt(pathSubject + '/' + segment, delimiter=',')\n",
    "        seriesList.append(np.expand_dims(data, axis=0))\n",
    "        labelsList.append(int(activity[1:])-1)\n",
    "\n",
    "inputData = np.concatenate(seriesList).transpose(0, 2, 1)\n",
    "inputLabels = np.asarray(labelsList)\n",
    "\n",
    "train_x, test_x, train_y, test_y = train_test_split(inputData, inputLabels, train_size=0.8, random_state=1)\n",
    "\n",
    "#print(train_x.shape)\n",
    "aa = train_x[0].squeeze()\n",
    "\n",
    "stack = train_x.reshape(train_x.shape[0], -1)\n",
    "\n",
    "#print(stack.shape)\n",
    "#dst_train = TensorDataset(torch.from_numpy(train_x), torch.from_numpy(train_y))\n",
    "#dst_test = TensorDataset(torch.from_numpy(test_x), torch.from_numpy(test_y))"
   ]
  },
  {
   "cell_type": "code",
   "execution_count": 28,
   "id": "05c599b5",
   "metadata": {},
   "outputs": [
    {
     "name": "stdout",
     "output_type": "stream",
     "text": [
      "(30, 5625)\n"
     ]
    }
   ],
   "source": [
    "clusters = 30\n",
    "\n",
    "kmeans = KMeans(n_clusters=clusters).fit(stack)\n",
    "#print(kmeans.labels_)\n",
    "kmeans.predict(stack)\n",
    "#print(kmeans.cluster_centers_.shape)"
   ]
  },
  {
   "cell_type": "code",
   "execution_count": 31,
   "id": "c77a5147",
   "metadata": {},
   "outputs": [
    {
     "name": "stdout",
     "output_type": "stream",
     "text": [
      "0,562\n",
      "1,151\n",
      "2,319\n",
      "3,775\n",
      "4,352\n",
      "5,526\n",
      "6,426\n",
      "7,803\n",
      "8,135\n",
      "9,900\n",
      "10,358\n",
      "11,810\n",
      "12,182\n",
      "13,686\n",
      "14,667\n",
      "15,611\n",
      "16,104\n",
      "17,354\n",
      "18,171\n",
      "19,773\n",
      "20,465\n",
      "21,897\n",
      "22,93\n",
      "23,589\n",
      "24,6\n",
      "25,218\n",
      "26,2\n",
      "27,540\n",
      "28,467\n",
      "29,782\n"
     ]
    }
   ],
   "source": [
    "from scipy.spatial.distance import euclidean\n",
    "\n",
    "# Loop over all clusters and find index of closest point to the cluster center and append to closest_pt_idx list.\n",
    "closest_pt_idx = []\n",
    "for i, iclust in enumerate(range(kmeans.n_clusters)):\n",
    "    # get all points assigned to each cluster:\n",
    "    cluster_pts = stack[kmeans.labels_ == iclust]\n",
    "    # get all indices of points assigned to this cluster:\n",
    "    cluster_pts_indices = np.where(kmeans.labels_ == iclust)[0]\n",
    "\n",
    "    cluster_cen = kmeans.cluster_centers_[iclust]\n",
    "    min_idx = np.argmin([euclidean(stack[idx], cluster_cen) for idx in cluster_pts_indices])\n",
    "    \n",
    "    # Testing:    \n",
    "    #print('closest point to cluster center: ', cluster_pts[min_idx])\n",
    "    print(str(i)+','+str(cluster_pts_indices[min_idx]))\n",
    "    #print('  ', aa[cluster_pts_indices[min_idx]])\n",
    "    closest_pt_idx.append(cluster_pts_indices[min_idx])"
   ]
  },
  {
   "cell_type": "code",
   "execution_count": null,
   "id": "f9bfe861",
   "metadata": {},
   "outputs": [],
   "source": []
  }
 ],
 "metadata": {
  "kernelspec": {
   "display_name": "Compression",
   "language": "python",
   "name": "compression"
  },
  "language_info": {
   "codemirror_mode": {
    "name": "ipython",
    "version": 3
   },
   "file_extension": ".py",
   "mimetype": "text/x-python",
   "name": "python",
   "nbconvert_exporter": "python",
   "pygments_lexer": "ipython3",
   "version": "3.9.7"
  }
 },
 "nbformat": 4,
 "nbformat_minor": 5
}
